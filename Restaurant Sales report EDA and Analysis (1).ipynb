{
 "cells": [
  {
   "cell_type": "markdown",
   "id": "a6445707",
   "metadata": {},
   "source": [
    "# Restaurant Sales report\n",
    "**EDA and Analysis Ideas for restaurant business**"
   ]
  },
  {
   "cell_type": "markdown",
   "id": "2effe6a8",
   "metadata": {},
   "source": [
    "# File Description:\n",
    "\n",
    "#### File Format: CSV\n",
    "#### Columns: This dataset includes columns such as order_id, date, item_name, item_type, item_price, quantity, transaction_amount, transaction_type, received_by, and time_of_sale.\n",
    "#### Data Size: This file contains 1000 rows and 10 columns.\n",
    "#### Data Structure: The dataset is organized as a single CSV file, providing information on transactions at a local restaurant.\n",
    "#### Data Cleaning and Preprocessing: The data has been carefully reviewed and cleaned to address duplicates and missing values, ensuring data quality for analysis.\n",
    "#### Date of Last Update: The dataset was last updated on March 31, 2023.\n",
    "#### Special Notes: Please note that the 'transaction_amount' column represents the total transaction amount, derived from the multiplication of 'item_price' and 'quantity' for each item in the order.\n",
    "#### Data Source: This data was collected from a local restaurant situated near my home and is made available for analysis and educational purposes."
   ]
  },
  {
   "cell_type": "markdown",
   "id": "1da7bd3e",
   "metadata": {},
   "source": [
    "## Data Description:\n",
    "This dataset captures sales transactions from a local restaurant near my home. It includes details such as the order ID, date of the transaction, item names (representing various food and beverage items), item types (categorized as Fast-food or Beverages), item prices, quantities ordered, transaction amounts, transaction types (cash, online, or others), the gender of the staff member who received the order, and the time of the sale (Morning, Evening, Afternoon, Night, Midnight). The dataset offers a valuable snapshot of the restaurant's daily operations and customer behavior.\n",
    "\n",
    "### Columns:\n",
    "\n",
    "    order_id: a unique identifier for each order.\n",
    "    date: date of the transaction.\n",
    "    item_name: name of the food.\n",
    "    item_type: category of item (Fastfood or Beverages).\n",
    "    item_price: price of the item for 1 quantity.\n",
    "    Quantity: how much quantity the customer orders.\n",
    "    transaction_amount: the total amount paid by customers.\n",
    "    transaction_type: payment method (cash, online, others).\n",
    "    received_by: gender of the person handling the transaction.\n",
    "    time_of_sale: different times of the day (Morning, Evening, Afternoon, Night, Midnight)."
   ]
  },
  {
   "cell_type": "markdown",
   "id": "9510e660-e33a-48f7-b514-6fb660c2daae",
   "metadata": {},
   "source": [
    "## Import libs and read the dataset"
   ]
  },
  {
   "cell_type": "code",
   "execution_count": 1,
   "id": "8e9bcfc9",
   "metadata": {},
   "outputs": [],
   "source": [
    "import pandas as pd\n",
    "import numpy as np\n",
    "import matplotlib as mp"
   ]
  },
  {
   "cell_type": "code",
   "execution_count": 2,
   "id": "744cd633-c903-4466-96ba-da6326930cdd",
   "metadata": {},
   "outputs": [],
   "source": [
    "df=pd.read_csv(\"Balaji Fast Food Sales (1).csv\")"
   ]
  },
  {
   "cell_type": "code",
   "execution_count": null,
   "id": "d389e90d-aaba-4dea-a926-dc837bd5ebd7",
   "metadata": {},
   "outputs": [],
   "source": []
  },
  {
   "cell_type": "markdown",
   "id": "3fe284c4-8307-4904-9dfb-a3bdb9e97cdb",
   "metadata": {},
   "source": [
    "## Basic understanding of dataset"
   ]
  },
  {
   "cell_type": "code",
   "execution_count": 4,
   "id": "477a4e67-4441-4c0f-be99-ce32271b61fd",
   "metadata": {},
   "outputs": [
    {
     "name": "stdout",
     "output_type": "stream",
     "text": [
      "<class 'pandas.core.frame.DataFrame'>\n",
      "RangeIndex: 1000 entries, 0 to 999\n",
      "Data columns (total 10 columns):\n",
      " #   Column              Non-Null Count  Dtype \n",
      "---  ------              --------------  ----- \n",
      " 0   order_id            1000 non-null   int64 \n",
      " 1   date                1000 non-null   object\n",
      " 2   item_name           1000 non-null   object\n",
      " 3   item_type           1000 non-null   object\n",
      " 4   item_price          1000 non-null   int64 \n",
      " 5   quantity            1000 non-null   int64 \n",
      " 6   transaction_amount  1000 non-null   int64 \n",
      " 7   transaction_type    893 non-null    object\n",
      " 8   received_by         1000 non-null   object\n",
      " 9   time_of_sale        1000 non-null   object\n",
      "dtypes: int64(4), object(6)\n",
      "memory usage: 78.3+ KB\n"
     ]
    }
   ],
   "source": [
    "df.info()"
   ]
  },
  {
   "cell_type": "code",
   "execution_count": 8,
   "id": "af4da739-c1c9-454d-a0d1-70cc4a1893aa",
   "metadata": {},
   "outputs": [
    {
     "name": "stdout",
     "output_type": "stream",
     "text": [
      "Total Number of row :  1000\n",
      "Total Number of columns :  10\n"
     ]
    }
   ],
   "source": [
    "print('Total Number of row : ',df.shape[0])\n",
    "print('Total Number of columns : ',df.shape[1])"
   ]
  },
  {
   "cell_type": "code",
   "execution_count": 9,
   "id": "215ebad8-89ec-4e8a-8807-8815a0d9a18f",
   "metadata": {},
   "outputs": [
    {
     "name": "stdout",
     "output_type": "stream",
     "text": [
      "Size of the dataset :  10000\n"
     ]
    }
   ],
   "source": [
    "print('Size of the dataset : ',df.size)"
   ]
  },
  {
   "cell_type": "code",
   "execution_count": null,
   "id": "1331daa7-490d-491f-b473-ae4af1e5d824",
   "metadata": {},
   "outputs": [],
   "source": []
  },
  {
   "cell_type": "markdown",
   "id": "7aa1042d-2faf-409f-a184-79d75f82df6e",
   "metadata": {},
   "source": [
    "### Inference "
   ]
  },
  {
   "cell_type": "markdown",
   "id": "29ff3535-4cc7-4215-8cb5-5f2dcd903c3b",
   "metadata": {},
   "source": [
    "##### * There are 107 null values in the transaction type column "
   ]
  },
  {
   "cell_type": "code",
   "execution_count": null,
   "id": "9514dd17-232f-4865-92bf-90626d5f273b",
   "metadata": {},
   "outputs": [],
   "source": []
  },
  {
   "cell_type": "markdown",
   "id": "f9defb1c-0474-4f5d-acdc-735611e13fa4",
   "metadata": {},
   "source": [
    "##### * There is no duplicates in the dataset"
   ]
  },
  {
   "cell_type": "code",
   "execution_count": 11,
   "id": "ddad3548-f255-42fd-b570-b06274a4ff54",
   "metadata": {},
   "outputs": [
    {
     "data": {
      "text/plain": [
       "order_id              0\n",
       "date                  0\n",
       "item_name             0\n",
       "item_type             0\n",
       "item_price            0\n",
       "quantity              0\n",
       "transaction_amount    0\n",
       "transaction_type      0\n",
       "received_by           0\n",
       "time_of_sale          0\n",
       "dtype: object"
      ]
     },
     "execution_count": 11,
     "metadata": {},
     "output_type": "execute_result"
    }
   ],
   "source": [
    "df[df.duplicated()].sum()"
   ]
  },
  {
   "cell_type": "code",
   "execution_count": null,
   "id": "9e4d27ab-6ede-4b2e-8ff8-1f1ecdfa0423",
   "metadata": {},
   "outputs": [],
   "source": []
  },
  {
   "cell_type": "markdown",
   "id": "3759cc4d-d210-4a19-ad3b-565f2366e3ba",
   "metadata": {},
   "source": [
    "### Check the datatype and change if it is neccessary"
   ]
  },
  {
   "cell_type": "code",
   "execution_count": 18,
   "id": "7aa59a1b-76ff-4de1-b630-a056dd37a33a",
   "metadata": {},
   "outputs": [],
   "source": [
    "df['date']=df['date'].str.replace('-','/')"
   ]
  },
  {
   "cell_type": "code",
   "execution_count": 19,
   "id": "d4259160-c884-45cd-9bd9-3adc51fada57",
   "metadata": {},
   "outputs": [
    {
     "data": {
      "text/html": [
       "<div>\n",
       "<style scoped>\n",
       "    .dataframe tbody tr th:only-of-type {\n",
       "        vertical-align: middle;\n",
       "    }\n",
       "\n",
       "    .dataframe tbody tr th {\n",
       "        vertical-align: top;\n",
       "    }\n",
       "\n",
       "    .dataframe thead th {\n",
       "        text-align: right;\n",
       "    }\n",
       "</style>\n",
       "<table border=\"1\" class=\"dataframe\">\n",
       "  <thead>\n",
       "    <tr style=\"text-align: right;\">\n",
       "      <th></th>\n",
       "      <th>order_id</th>\n",
       "      <th>date</th>\n",
       "      <th>item_name</th>\n",
       "      <th>item_type</th>\n",
       "      <th>item_price</th>\n",
       "      <th>quantity</th>\n",
       "      <th>transaction_amount</th>\n",
       "      <th>transaction_type</th>\n",
       "      <th>received_by</th>\n",
       "      <th>time_of_sale</th>\n",
       "    </tr>\n",
       "  </thead>\n",
       "  <tbody>\n",
       "    <tr>\n",
       "      <th>0</th>\n",
       "      <td>1</td>\n",
       "      <td>07/03/2022</td>\n",
       "      <td>Aalopuri</td>\n",
       "      <td>Fastfood</td>\n",
       "      <td>20</td>\n",
       "      <td>13</td>\n",
       "      <td>260</td>\n",
       "      <td>NaN</td>\n",
       "      <td>Mr.</td>\n",
       "      <td>Night</td>\n",
       "    </tr>\n",
       "    <tr>\n",
       "      <th>1</th>\n",
       "      <td>2</td>\n",
       "      <td>8/23/2022</td>\n",
       "      <td>Vadapav</td>\n",
       "      <td>Fastfood</td>\n",
       "      <td>20</td>\n",
       "      <td>15</td>\n",
       "      <td>300</td>\n",
       "      <td>Cash</td>\n",
       "      <td>Mr.</td>\n",
       "      <td>Afternoon</td>\n",
       "    </tr>\n",
       "    <tr>\n",
       "      <th>2</th>\n",
       "      <td>3</td>\n",
       "      <td>11/20/2022</td>\n",
       "      <td>Vadapav</td>\n",
       "      <td>Fastfood</td>\n",
       "      <td>20</td>\n",
       "      <td>1</td>\n",
       "      <td>20</td>\n",
       "      <td>Cash</td>\n",
       "      <td>Mr.</td>\n",
       "      <td>Afternoon</td>\n",
       "    </tr>\n",
       "    <tr>\n",
       "      <th>3</th>\n",
       "      <td>4</td>\n",
       "      <td>02/03/2023</td>\n",
       "      <td>Sugarcane juice</td>\n",
       "      <td>Beverages</td>\n",
       "      <td>25</td>\n",
       "      <td>6</td>\n",
       "      <td>150</td>\n",
       "      <td>Online</td>\n",
       "      <td>Mr.</td>\n",
       "      <td>Night</td>\n",
       "    </tr>\n",
       "    <tr>\n",
       "      <th>4</th>\n",
       "      <td>5</td>\n",
       "      <td>10/02/2022</td>\n",
       "      <td>Sugarcane juice</td>\n",
       "      <td>Beverages</td>\n",
       "      <td>25</td>\n",
       "      <td>8</td>\n",
       "      <td>200</td>\n",
       "      <td>Online</td>\n",
       "      <td>Mr.</td>\n",
       "      <td>Evening</td>\n",
       "    </tr>\n",
       "    <tr>\n",
       "      <th>...</th>\n",
       "      <td>...</td>\n",
       "      <td>...</td>\n",
       "      <td>...</td>\n",
       "      <td>...</td>\n",
       "      <td>...</td>\n",
       "      <td>...</td>\n",
       "      <td>...</td>\n",
       "      <td>...</td>\n",
       "      <td>...</td>\n",
       "      <td>...</td>\n",
       "    </tr>\n",
       "    <tr>\n",
       "      <th>995</th>\n",
       "      <td>996</td>\n",
       "      <td>3/19/2023</td>\n",
       "      <td>Frankie</td>\n",
       "      <td>Fastfood</td>\n",
       "      <td>50</td>\n",
       "      <td>10</td>\n",
       "      <td>500</td>\n",
       "      <td>NaN</td>\n",
       "      <td>Mrs.</td>\n",
       "      <td>Evening</td>\n",
       "    </tr>\n",
       "    <tr>\n",
       "      <th>996</th>\n",
       "      <td>997</td>\n",
       "      <td>9/20/2022</td>\n",
       "      <td>Sandwich</td>\n",
       "      <td>Fastfood</td>\n",
       "      <td>60</td>\n",
       "      <td>7</td>\n",
       "      <td>420</td>\n",
       "      <td>NaN</td>\n",
       "      <td>Mr.</td>\n",
       "      <td>Evening</td>\n",
       "    </tr>\n",
       "    <tr>\n",
       "      <th>997</th>\n",
       "      <td>998</td>\n",
       "      <td>1/26/2023</td>\n",
       "      <td>Sandwich</td>\n",
       "      <td>Fastfood</td>\n",
       "      <td>60</td>\n",
       "      <td>13</td>\n",
       "      <td>780</td>\n",
       "      <td>NaN</td>\n",
       "      <td>Mr.</td>\n",
       "      <td>Evening</td>\n",
       "    </tr>\n",
       "    <tr>\n",
       "      <th>998</th>\n",
       "      <td>999</td>\n",
       "      <td>8/27/2022</td>\n",
       "      <td>Panipuri</td>\n",
       "      <td>Fastfood</td>\n",
       "      <td>20</td>\n",
       "      <td>5</td>\n",
       "      <td>100</td>\n",
       "      <td>NaN</td>\n",
       "      <td>Mrs.</td>\n",
       "      <td>Afternoon</td>\n",
       "    </tr>\n",
       "    <tr>\n",
       "      <th>999</th>\n",
       "      <td>1000</td>\n",
       "      <td>5/29/2022</td>\n",
       "      <td>Aalopuri</td>\n",
       "      <td>Fastfood</td>\n",
       "      <td>20</td>\n",
       "      <td>3</td>\n",
       "      <td>60</td>\n",
       "      <td>Online</td>\n",
       "      <td>Mrs.</td>\n",
       "      <td>Midnight</td>\n",
       "    </tr>\n",
       "  </tbody>\n",
       "</table>\n",
       "<p>1000 rows × 10 columns</p>\n",
       "</div>"
      ],
      "text/plain": [
       "     order_id        date        item_name  item_type  item_price  quantity  \\\n",
       "0           1  07/03/2022         Aalopuri   Fastfood          20        13   \n",
       "1           2   8/23/2022          Vadapav   Fastfood          20        15   \n",
       "2           3  11/20/2022          Vadapav   Fastfood          20         1   \n",
       "3           4  02/03/2023  Sugarcane juice  Beverages          25         6   \n",
       "4           5  10/02/2022  Sugarcane juice  Beverages          25         8   \n",
       "..        ...         ...              ...        ...         ...       ...   \n",
       "995       996   3/19/2023          Frankie   Fastfood          50        10   \n",
       "996       997   9/20/2022         Sandwich   Fastfood          60         7   \n",
       "997       998   1/26/2023         Sandwich   Fastfood          60        13   \n",
       "998       999   8/27/2022         Panipuri   Fastfood          20         5   \n",
       "999      1000   5/29/2022         Aalopuri   Fastfood          20         3   \n",
       "\n",
       "     transaction_amount transaction_type received_by time_of_sale  \n",
       "0                   260              NaN         Mr.        Night  \n",
       "1                   300             Cash         Mr.    Afternoon  \n",
       "2                    20             Cash         Mr.    Afternoon  \n",
       "3                   150           Online         Mr.        Night  \n",
       "4                   200           Online         Mr.      Evening  \n",
       "..                  ...              ...         ...          ...  \n",
       "995                 500              NaN        Mrs.      Evening  \n",
       "996                 420              NaN         Mr.      Evening  \n",
       "997                 780              NaN         Mr.      Evening  \n",
       "998                 100              NaN        Mrs.    Afternoon  \n",
       "999                  60           Online        Mrs.     Midnight  \n",
       "\n",
       "[1000 rows x 10 columns]"
      ]
     },
     "execution_count": 19,
     "metadata": {},
     "output_type": "execute_result"
    }
   ],
   "source": [
    "df"
   ]
  },
  {
   "cell_type": "code",
   "execution_count": null,
   "id": "28d58136-f681-43b0-967d-0421b4beb7ed",
   "metadata": {},
   "outputs": [],
   "source": []
  },
  {
   "cell_type": "code",
   "execution_count": 20,
   "id": "644e0d0c-3079-4343-8c75-bf7f8b4d0838",
   "metadata": {},
   "outputs": [],
   "source": [
    "df['date']=pd.to_datetime(df['date'])"
   ]
  },
  {
   "cell_type": "code",
   "execution_count": 21,
   "id": "d189f8e5-8808-49c9-a554-3ef7992121d0",
   "metadata": {},
   "outputs": [
    {
     "name": "stdout",
     "output_type": "stream",
     "text": [
      "<class 'pandas.core.frame.DataFrame'>\n",
      "RangeIndex: 1000 entries, 0 to 999\n",
      "Data columns (total 10 columns):\n",
      " #   Column              Non-Null Count  Dtype         \n",
      "---  ------              --------------  -----         \n",
      " 0   order_id            1000 non-null   int64         \n",
      " 1   date                1000 non-null   datetime64[ns]\n",
      " 2   item_name           1000 non-null   object        \n",
      " 3   item_type           1000 non-null   object        \n",
      " 4   item_price          1000 non-null   int64         \n",
      " 5   quantity            1000 non-null   int64         \n",
      " 6   transaction_amount  1000 non-null   int64         \n",
      " 7   transaction_type    893 non-null    object        \n",
      " 8   received_by         1000 non-null   object        \n",
      " 9   time_of_sale        1000 non-null   object        \n",
      "dtypes: datetime64[ns](1), int64(4), object(5)\n",
      "memory usage: 78.3+ KB\n"
     ]
    }
   ],
   "source": [
    "df.info()"
   ]
  },
  {
   "cell_type": "code",
   "execution_count": null,
   "id": "df2486fe-a4d0-43a5-a395-54cf7495a2e1",
   "metadata": {},
   "outputs": [],
   "source": []
  },
  {
   "cell_type": "markdown",
   "id": "06b40a87-0914-4e31-a5cc-ae5c66ac482f",
   "metadata": {},
   "source": [
    "### Separate the numerical and catogorical column"
   ]
  },
  {
   "cell_type": "code",
   "execution_count": 27,
   "id": "4164429c-85ca-426b-937f-0f36e9c8ca7e",
   "metadata": {},
   "outputs": [],
   "source": [
    "col=df.columns.to_list()"
   ]
  },
  {
   "cell_type": "code",
   "execution_count": 29,
   "id": "5fc1d3bf-a237-4a82-82d7-76707dee0075",
   "metadata": {},
   "outputs": [],
   "source": [
    "num=df.select_dtypes(include=np.number).columns.to_list()"
   ]
  },
  {
   "cell_type": "code",
   "execution_count": 31,
   "id": "2c7a407f-f8c3-4931-9b35-98d23f1677a3",
   "metadata": {},
   "outputs": [],
   "source": [
    "cat=df.select_dtypes(exclude=np.number).columns.to_list()"
   ]
  },
  {
   "cell_type": "code",
   "execution_count": null,
   "id": "f6b95f39-6916-42f7-80a8-21eebb3b4307",
   "metadata": {},
   "outputs": [],
   "source": []
  },
  {
   "cell_type": "code",
   "execution_count": 34,
   "id": "7da6fe5f-be25-40b8-9fd6-b3f59f4414f9",
   "metadata": {},
   "outputs": [
    {
     "name": "stdout",
     "output_type": "stream",
     "text": [
      "Numeric vriable :  ['order_id', 'item_price', 'quantity', 'transaction_amount']\n",
      "Catogorical variable :  ['date', 'item_name', 'item_type', 'transaction_type', 'received_by', 'time_of_sale']\n"
     ]
    }
   ],
   "source": [
    "print('Numeric vriable : ',num)\n",
    "print('Catogorical variable : ',cat)"
   ]
  },
  {
   "cell_type": "code",
   "execution_count": null,
   "id": "6d0688b7-074f-4b24-b9e0-276e1887c735",
   "metadata": {},
   "outputs": [],
   "source": []
  },
  {
   "cell_type": "markdown",
   "id": "91358ed6-de5c-4154-8043-c09377fdb915",
   "metadata": {},
   "source": [
    "### Discriptive stat"
   ]
  },
  {
   "cell_type": "markdown",
   "id": "65940fb0-548e-4154-8075-32b8dbaf5bd6",
   "metadata": {},
   "source": [
    "##### Measures of central tendency"
   ]
  },
  {
   "cell_type": "code",
   "execution_count": 37,
   "id": "f624c00c-1677-4cda-9fc0-ea9e22ab1cd7",
   "metadata": {},
   "outputs": [
    {
     "data": {
      "text/plain": [
       "order_id              500.500\n",
       "item_price             33.315\n",
       "quantity                8.162\n",
       "transaction_amount    275.230\n",
       "dtype: float64"
      ]
     },
     "execution_count": 37,
     "metadata": {},
     "output_type": "execute_result"
    }
   ],
   "source": [
    "df[num].mean()"
   ]
  },
  {
   "cell_type": "code",
   "execution_count": 38,
   "id": "52ca1a3c-e734-45d3-bfac-bf65ca08dd9f",
   "metadata": {},
   "outputs": [
    {
     "name": "stdout",
     "output_type": "stream",
     "text": [
      "Mean of column order_id is : 500.5\n",
      "Mean of column item_price is : 33.315\n",
      "Mean of column quantity is : 8.162\n",
      "Mean of column transaction_amount is : 275.23\n"
     ]
    }
   ],
   "source": [
    "for i in num:\n",
    "    print(f'Mean of column {i} is : {df[i].mean()}')"
   ]
  },
  {
   "cell_type": "code",
   "execution_count": 42,
   "id": "a237c863-9405-4f87-8f8c-75e4ef50aa80",
   "metadata": {},
   "outputs": [
    {
     "name": "stdout",
     "output_type": "stream",
     "text": [
      "Medium of column order_id is : 500.5\n",
      "Medium of column item_price is : 25.0\n",
      "Medium of column quantity is : 8.0\n",
      "Medium of column transaction_amount is : 240.0\n"
     ]
    }
   ],
   "source": [
    "for i in num:\n",
    "    print(f'Medium of column {i} is : {df[i].median()}')"
   ]
  },
  {
   "cell_type": "code",
   "execution_count": 44,
   "id": "c966ca18-c013-497b-af3c-2d9c3da926b4",
   "metadata": {},
   "outputs": [
    {
     "name": "stdout",
     "output_type": "stream",
     "text": [
      "Mode of column date is : 0   2022-05-09\n",
      "1   2022-08-31\n",
      "2   2022-10-11\n",
      "Name: date, dtype: datetime64[ns]\n",
      "     \n",
      "Mode of column item_name is : 0    Cold coffee\n",
      "Name: item_name, dtype: object\n",
      "     \n",
      "Mode of column item_type is : 0    Fastfood\n",
      "Name: item_type, dtype: object\n",
      "     \n",
      "Mode of column transaction_type is : 0    Cash\n",
      "Name: transaction_type, dtype: object\n",
      "     \n",
      "Mode of column received_by is : 0    Mr.\n",
      "Name: received_by, dtype: object\n",
      "     \n",
      "Mode of column time_of_sale is : 0    Afternoon\n",
      "1        Night\n",
      "Name: time_of_sale, dtype: object\n",
      "     \n"
     ]
    }
   ],
   "source": [
    "for i in cat:\n",
    "    print(f'Mode of column {i} is : {df[i].mode()}')\n",
    "    print('     ')"
   ]
  },
  {
   "cell_type": "code",
   "execution_count": 46,
   "id": "7491877a-4b3e-414a-bf8f-d672add646e8",
   "metadata": {},
   "outputs": [
    {
     "name": "stdout",
     "output_type": "stream",
     "text": [
      "Mode of column order_id is : 0         1\n",
      "1         2\n",
      "2         3\n",
      "3         4\n",
      "4         5\n",
      "       ... \n",
      "995     996\n",
      "996     997\n",
      "997     998\n",
      "998     999\n",
      "999    1000\n",
      "Name: order_id, Length: 1000, dtype: int64\n",
      "     \n",
      "Mode of column item_price is : 0    20\n",
      "Name: item_price, dtype: int64\n",
      "     \n",
      "Mode of column quantity is : 0    13\n",
      "Name: quantity, dtype: int64\n",
      "     \n",
      "Mode of column transaction_amount is : 0    300\n",
      "Name: transaction_amount, dtype: int64\n",
      "     \n"
     ]
    }
   ],
   "source": [
    "for i in num:\n",
    "    print(f'Mode of column {i} is : {df[i].mode()}')\n",
    "    print('     ')"
   ]
  },
  {
   "cell_type": "code",
   "execution_count": null,
   "id": "c021f189-ea25-42c5-a3f1-fbe118dd8a4b",
   "metadata": {},
   "outputs": [],
   "source": []
  },
  {
   "cell_type": "code",
   "execution_count": 45,
   "id": "c50b8141-b535-4659-9155-b5e13d90f3d0",
   "metadata": {},
   "outputs": [
    {
     "name": "stdout",
     "output_type": "stream",
     "text": [
      "Value count of column date is : date\n",
      "2022-10-11    8\n",
      "2022-05-09    8\n",
      "2022-08-31    8\n",
      "2023-03-19    7\n",
      "2023-02-03    7\n",
      "             ..\n",
      "2022-06-12    1\n",
      "2022-04-15    1\n",
      "2022-05-17    1\n",
      "2022-07-23    1\n",
      "2022-06-14    1\n",
      "Name: count, Length: 348, dtype: int64\n",
      "     \n",
      "Value count of column item_name is : item_name\n",
      "Cold coffee        161\n",
      "Sugarcane juice    153\n",
      "Panipuri           150\n",
      "Frankie            139\n",
      "Aalopuri           134\n",
      "Vadapav            134\n",
      "Sandwich           129\n",
      "Name: count, dtype: int64\n",
      "     \n",
      "Value count of column item_type is : item_type\n",
      "Fastfood     686\n",
      "Beverages    314\n",
      "Name: count, dtype: int64\n",
      "     \n",
      "Value count of column transaction_type is : transaction_type\n",
      "Cash      476\n",
      "Online    417\n",
      "Name: count, dtype: int64\n",
      "     \n",
      "Value count of column received_by is : received_by\n",
      "Mr.     512\n",
      "Mrs.    488\n",
      "Name: count, dtype: int64\n",
      "     \n",
      "Value count of column time_of_sale is : time_of_sale\n",
      "Night        205\n",
      "Afternoon    205\n",
      "Evening      201\n",
      "Midnight     199\n",
      "Morning      190\n",
      "Name: count, dtype: int64\n",
      "     \n"
     ]
    }
   ],
   "source": [
    "for i in cat:\n",
    "    print(f'Value count of column {i} is : {df[i].value_counts()}')\n",
    "    print('     ')"
   ]
  },
  {
   "cell_type": "code",
   "execution_count": 48,
   "id": "f0971456-31e8-4840-94a2-7296d5a40990",
   "metadata": {},
   "outputs": [
    {
     "name": "stdout",
     "output_type": "stream",
     "text": [
      "Unique Value of column date is : <DatetimeArray>\n",
      "['2022-07-03 00:00:00', '2022-08-23 00:00:00', '2022-11-20 00:00:00',\n",
      " '2023-02-03 00:00:00', '2022-10-02 00:00:00', '2022-11-14 00:00:00',\n",
      " '2022-05-03 00:00:00', '2022-12-22 00:00:00', '2022-06-10 00:00:00',\n",
      " '2022-09-16 00:00:00',\n",
      " ...\n",
      " '2023-03-06 00:00:00', '2023-02-21 00:00:00', '2023-02-19 00:00:00',\n",
      " '2023-01-07 00:00:00', '2022-09-24 00:00:00', '2022-06-29 00:00:00',\n",
      " '2022-11-21 00:00:00', '2023-01-22 00:00:00', '2023-03-30 00:00:00',\n",
      " '2022-06-14 00:00:00']\n",
      "Length: 348, dtype: datetime64[ns]\n",
      "     \n",
      "Unique Value of column item_name is : ['Aalopuri' 'Vadapav' 'Sugarcane juice' 'Panipuri' 'Frankie' 'Sandwich'\n",
      " 'Cold coffee']\n",
      "     \n",
      "Unique Value of column item_type is : ['Fastfood' 'Beverages']\n",
      "     \n",
      "Unique Value of column transaction_type is : [nan 'Cash' 'Online']\n",
      "     \n",
      "Unique Value of column received_by is : ['Mr.' 'Mrs.']\n",
      "     \n",
      "Unique Value of column time_of_sale is : ['Night' 'Afternoon' 'Evening' 'Morning' 'Midnight']\n",
      "     \n"
     ]
    }
   ],
   "source": [
    "for i in cat:\n",
    "    print(f'Unique Value of column {i} is : {df[i].unique()}')\n",
    "    print('     ')"
   ]
  },
  {
   "cell_type": "code",
   "execution_count": null,
   "id": "a4442f3a-6fb6-41f5-8c04-92bbbb143eca",
   "metadata": {},
   "outputs": [],
   "source": []
  },
  {
   "cell_type": "markdown",
   "id": "5ea0aa1f-5e70-4e0d-8abe-52990363cee3",
   "metadata": {},
   "source": [
    "## Measure of dispersion"
   ]
  },
  {
   "cell_type": "code",
   "execution_count": 56,
   "id": "7fdd9797-a68b-4c2f-ab58-fa909f144a69",
   "metadata": {},
   "outputs": [
    {
     "data": {
      "text/plain": [
       "['999', '40', '14', '880']"
      ]
     },
     "execution_count": 56,
     "metadata": {},
     "output_type": "execute_result"
    }
   ],
   "source": [
    "list(map(lambda x,y:f'{x-y}',df[num].max(),df[num].min()))"
   ]
  },
  {
   "cell_type": "code",
   "execution_count": 57,
   "id": "8bbde3d1-0f0a-4640-92bd-ca2290f76ce1",
   "metadata": {},
   "outputs": [
    {
     "name": "stdout",
     "output_type": "stream",
     "text": [
      "Variance of column order_id is 83416.66666666667\n",
      "Variance of column item_price is 222.65843343343138\n",
      "Variance of column quantity is 19.475231231231273\n",
      "Variance of column transaction_amount is 41780.57767767783\n"
     ]
    }
   ],
   "source": [
    "for i in num:\n",
    "    print('Variance of column',i,'is',df[i].var())"
   ]
  },
  {
   "cell_type": "code",
   "execution_count": 58,
   "id": "d634d75a-1f47-474c-88b3-05deb877bfec",
   "metadata": {},
   "outputs": [
    {
     "name": "stdout",
     "output_type": "stream",
     "text": [
      "Standard deviation of column  order_id is 288.8194360957494\n",
      "Standard deviation of column  item_price is 14.921743645882387\n",
      "Standard deviation of column  quantity is 4.413075031226104\n",
      "Standard deviation of column  transaction_amount is 204.4029786418922\n"
     ]
    }
   ],
   "source": [
    "for i in num:\n",
    "    print('Standard deviation of column ',i,'is',df[i].std())"
   ]
  },
  {
   "cell_type": "code",
   "execution_count": 59,
   "id": "be32d17c-c58a-4d3f-b78a-d8145b4ce627",
   "metadata": {},
   "outputs": [
    {
     "name": "stdout",
     "output_type": "stream",
     "text": [
      "IQR value of column  order_id is 499.5\n",
      "IQR value of column  item_price is 30.0\n",
      "IQR value of column  quantity is 8.0\n",
      "IQR value of column  transaction_amount is 240.0\n"
     ]
    }
   ],
   "source": [
    "for i in num:\n",
    "    print('IQR value of column ',i,'is',df[i].quantile(0.75)-df[i].quantile(0.25))"
   ]
  },
  {
   "cell_type": "code",
   "execution_count": null,
   "id": "2c28e28c-0126-44f9-bb2e-65b4e5e2193f",
   "metadata": {},
   "outputs": [],
   "source": []
  },
  {
   "cell_type": "markdown",
   "id": "a708557c-f67b-45ca-9247-2aad28ac5628",
   "metadata": {},
   "source": [
    "### Measures of shape"
   ]
  },
  {
   "cell_type": "markdown",
   "id": "94afb566-1564-4490-ae4b-e2efbcd3b42c",
   "metadata": {},
   "source": [
    "##### 1. Skewness"
   ]
  },
  {
   "cell_type": "code",
   "execution_count": 67,
   "id": "7502ad26-1819-48fb-a505-d9f821361ee4",
   "metadata": {},
   "outputs": [
    {
     "name": "stdout",
     "output_type": "stream",
     "text": [
      "Skewness value of order_id is 0.0\n",
      "Skewness value of item_price is 0.6250044803515558\n",
      "Skewness value of quantity is -0.05129947454908782\n",
      "Skewness value of transaction_amount is 1.052643178230624\n"
     ]
    }
   ],
   "source": [
    "for i in num:\n",
    "    print(f\"Skewness value of {i} is {df[i].skew()}\")"
   ]
  },
  {
   "cell_type": "markdown",
   "id": "b2ec3f79-a4ac-4e9a-a0b3-43421e20d035",
   "metadata": {},
   "source": [
    "##### Inference from Skewness"
   ]
  },
  {
   "cell_type": "markdown",
   "id": "8ae34eb0-af34-4e72-b5bd-145f8a171600",
   "metadata": {},
   "source": [
    "The item prices and transaction amounts show a tendency towards larger values, indicating potential outliers or high-value products/transactions.\n",
    "The quantity distribution is fairly balanced, suggesting consistent sales patterns.\n",
    "Further analysis with visualizations (like histograms or box plots) would provide a better understanding of the data distribution and potential outliers."
   ]
  },
  {
   "cell_type": "code",
   "execution_count": null,
   "id": "f7fd11a8-0d6f-4e15-bb55-dca0040be916",
   "metadata": {},
   "outputs": [],
   "source": []
  },
  {
   "cell_type": "markdown",
   "id": "60d8ff05-d9fb-4ea2-804c-25dd7ef8f0aa",
   "metadata": {},
   "source": [
    "##### 2. Kurtosis"
   ]
  },
  {
   "cell_type": "code",
   "execution_count": 71,
   "id": "e9f0ff1c-5c1f-41e1-a251-908b748d0bdd",
   "metadata": {},
   "outputs": [
    {
     "name": "stdout",
     "output_type": "stream",
     "text": [
      "Kurtosis value of order_id is -1.2\n",
      "Kurtosis value of item_price is -1.173262217524134\n",
      "Kurtosis value of quantity is -1.2416861155903576\n",
      "Kurtosis value of transaction_amount is 0.6554065709917558\n"
     ]
    }
   ],
   "source": [
    "for i in num:\n",
    "    print(f\"Kurtosis value of {i} is {df[i].kurtosis()}\")"
   ]
  },
  {
   "cell_type": "markdown",
   "id": "6864e55d-63aa-4aa2-ba55-67a612e32dc1",
   "metadata": {},
   "source": [
    "##### Inference from Kurtosis "
   ]
  },
  {
   "cell_type": "markdown",
   "id": "afa77c38-d7ca-4077-a5bf-28e3bc2a01b1",
   "metadata": {},
   "source": [
    "The kurtosis values support the inferences made from the skewness values.\n",
    "The data for item prices, quantities, and potentially transaction amounts appear to have fewer extreme values than a normal distribution.\n",
    "Order IDs, as expected, exhibit a platykurtic distribution due to their sequential nature."
   ]
  },
  {
   "cell_type": "code",
   "execution_count": null,
   "id": "3a09789e-facb-4ea6-ad2d-e193febbede0",
   "metadata": {},
   "outputs": [],
   "source": []
  },
  {
   "cell_type": "markdown",
   "id": "45e185f4-3165-43f4-84f5-8c73f5908396",
   "metadata": {},
   "source": [
    "##### 3. Covariance"
   ]
  },
  {
   "cell_type": "code",
   "execution_count": 77,
   "id": "eb14ffa0-4901-432d-ad92-2e6509e182da",
   "metadata": {},
   "outputs": [
    {
     "data": {
      "text/html": [
       "<div>\n",
       "<style scoped>\n",
       "    .dataframe tbody tr th:only-of-type {\n",
       "        vertical-align: middle;\n",
       "    }\n",
       "\n",
       "    .dataframe tbody tr th {\n",
       "        vertical-align: top;\n",
       "    }\n",
       "\n",
       "    .dataframe thead th {\n",
       "        text-align: right;\n",
       "    }\n",
       "</style>\n",
       "<table border=\"1\" class=\"dataframe\">\n",
       "  <thead>\n",
       "    <tr style=\"text-align: right;\">\n",
       "      <th></th>\n",
       "      <th>order_id</th>\n",
       "      <th>item_price</th>\n",
       "      <th>quantity</th>\n",
       "      <th>transaction_amount</th>\n",
       "    </tr>\n",
       "  </thead>\n",
       "  <tbody>\n",
       "    <tr>\n",
       "      <th>order_id</th>\n",
       "      <td>83416.666667</td>\n",
       "      <td>159.577077</td>\n",
       "      <td>13.185185</td>\n",
       "      <td>2595.785786</td>\n",
       "    </tr>\n",
       "    <tr>\n",
       "      <th>item_price</th>\n",
       "      <td>159.577077</td>\n",
       "      <td>222.658433</td>\n",
       "      <td>3.316286</td>\n",
       "      <td>1943.606156</td>\n",
       "    </tr>\n",
       "    <tr>\n",
       "      <th>quantity</th>\n",
       "      <td>13.185185</td>\n",
       "      <td>3.316286</td>\n",
       "      <td>19.475231</td>\n",
       "      <td>660.122863</td>\n",
       "    </tr>\n",
       "    <tr>\n",
       "      <th>transaction_amount</th>\n",
       "      <td>2595.785786</td>\n",
       "      <td>1943.606156</td>\n",
       "      <td>660.122863</td>\n",
       "      <td>41780.577678</td>\n",
       "    </tr>\n",
       "  </tbody>\n",
       "</table>\n",
       "</div>"
      ],
      "text/plain": [
       "                        order_id   item_price    quantity  transaction_amount\n",
       "order_id            83416.666667   159.577077   13.185185         2595.785786\n",
       "item_price            159.577077   222.658433    3.316286         1943.606156\n",
       "quantity               13.185185     3.316286   19.475231          660.122863\n",
       "transaction_amount   2595.785786  1943.606156  660.122863        41780.577678"
      ]
     },
     "execution_count": 77,
     "metadata": {},
     "output_type": "execute_result"
    }
   ],
   "source": [
    "df[num].cov()"
   ]
  },
  {
   "cell_type": "markdown",
   "id": "dd81cff7-7b43-49fa-85c1-d014234d9f0e",
   "metadata": {},
   "source": [
    "All variables are positively correlated with each other. transaction_amount has the highest covariance with all other variables, indicating a strong relationship. item_price and quantity have moderate covariance, suggesting a moderate relationship."
   ]
  },
  {
   "cell_type": "code",
   "execution_count": null,
   "id": "3db12eb5-62b6-4569-9b03-d88dbe94679e",
   "metadata": {},
   "outputs": [],
   "source": []
  },
  {
   "cell_type": "markdown",
   "id": "8e76cff7-81b6-4ebe-9538-16bdc11154ba",
   "metadata": {},
   "source": [
    "##### 4. Corelation "
   ]
  },
  {
   "cell_type": "code",
   "execution_count": 78,
   "id": "d53a9847-0457-4aa5-92c3-c294d826ff58",
   "metadata": {},
   "outputs": [
    {
     "data": {
      "text/html": [
       "<div>\n",
       "<style scoped>\n",
       "    .dataframe tbody tr th:only-of-type {\n",
       "        vertical-align: middle;\n",
       "    }\n",
       "\n",
       "    .dataframe tbody tr th {\n",
       "        vertical-align: top;\n",
       "    }\n",
       "\n",
       "    .dataframe thead th {\n",
       "        text-align: right;\n",
       "    }\n",
       "</style>\n",
       "<table border=\"1\" class=\"dataframe\">\n",
       "  <thead>\n",
       "    <tr style=\"text-align: right;\">\n",
       "      <th></th>\n",
       "      <th>order_id</th>\n",
       "      <th>item_price</th>\n",
       "      <th>quantity</th>\n",
       "      <th>transaction_amount</th>\n",
       "    </tr>\n",
       "  </thead>\n",
       "  <tbody>\n",
       "    <tr>\n",
       "      <th>order_id</th>\n",
       "      <td>1.000000</td>\n",
       "      <td>0.037028</td>\n",
       "      <td>0.010345</td>\n",
       "      <td>0.043970</td>\n",
       "    </tr>\n",
       "    <tr>\n",
       "      <th>item_price</th>\n",
       "      <td>0.037028</td>\n",
       "      <td>1.000000</td>\n",
       "      <td>0.050361</td>\n",
       "      <td>0.637238</td>\n",
       "    </tr>\n",
       "    <tr>\n",
       "      <th>quantity</th>\n",
       "      <td>0.010345</td>\n",
       "      <td>0.050361</td>\n",
       "      <td>1.000000</td>\n",
       "      <td>0.731806</td>\n",
       "    </tr>\n",
       "    <tr>\n",
       "      <th>transaction_amount</th>\n",
       "      <td>0.043970</td>\n",
       "      <td>0.637238</td>\n",
       "      <td>0.731806</td>\n",
       "      <td>1.000000</td>\n",
       "    </tr>\n",
       "  </tbody>\n",
       "</table>\n",
       "</div>"
      ],
      "text/plain": [
       "                    order_id  item_price  quantity  transaction_amount\n",
       "order_id            1.000000    0.037028  0.010345            0.043970\n",
       "item_price          0.037028    1.000000  0.050361            0.637238\n",
       "quantity            0.010345    0.050361  1.000000            0.731806\n",
       "transaction_amount  0.043970    0.637238  0.731806            1.000000"
      ]
     },
     "execution_count": 78,
     "metadata": {},
     "output_type": "execute_result"
    }
   ],
   "source": [
    "df[num].corr()"
   ]
  },
  {
   "cell_type": "markdown",
   "id": "589f7af6-f561-41b1-83f8-2c7b0a08d30c",
   "metadata": {},
   "source": [
    "The correlation matrix suggests that quantity has a stronger influence on transaction_amount than item_price, although both factors play a role. order_id appears to be unrelated to the other variables."
   ]
  },
  {
   "cell_type": "code",
   "execution_count": null,
   "id": "a7bf9df5-c47d-4ae2-8fe5-a107750fa9dd",
   "metadata": {},
   "outputs": [],
   "source": []
  },
  {
   "cell_type": "markdown",
   "id": "72a3d933-497f-4acc-9ba1-5aa263ea7b35",
   "metadata": {},
   "source": [
    "### 5 points summary for num and cat"
   ]
  },
  {
   "cell_type": "code",
   "execution_count": 79,
   "id": "4b930706-cef6-4119-b5c5-32e7fcba89b2",
   "metadata": {},
   "outputs": [
    {
     "data": {
      "text/html": [
       "<div>\n",
       "<style scoped>\n",
       "    .dataframe tbody tr th:only-of-type {\n",
       "        vertical-align: middle;\n",
       "    }\n",
       "\n",
       "    .dataframe tbody tr th {\n",
       "        vertical-align: top;\n",
       "    }\n",
       "\n",
       "    .dataframe thead th {\n",
       "        text-align: right;\n",
       "    }\n",
       "</style>\n",
       "<table border=\"1\" class=\"dataframe\">\n",
       "  <thead>\n",
       "    <tr style=\"text-align: right;\">\n",
       "      <th></th>\n",
       "      <th>order_id</th>\n",
       "      <th>item_price</th>\n",
       "      <th>quantity</th>\n",
       "      <th>transaction_amount</th>\n",
       "    </tr>\n",
       "  </thead>\n",
       "  <tbody>\n",
       "    <tr>\n",
       "      <th>count</th>\n",
       "      <td>1000.000000</td>\n",
       "      <td>1000.000000</td>\n",
       "      <td>1000.000000</td>\n",
       "      <td>1000.000000</td>\n",
       "    </tr>\n",
       "    <tr>\n",
       "      <th>mean</th>\n",
       "      <td>500.500000</td>\n",
       "      <td>33.315000</td>\n",
       "      <td>8.162000</td>\n",
       "      <td>275.230000</td>\n",
       "    </tr>\n",
       "    <tr>\n",
       "      <th>std</th>\n",
       "      <td>288.819436</td>\n",
       "      <td>14.921744</td>\n",
       "      <td>4.413075</td>\n",
       "      <td>204.402979</td>\n",
       "    </tr>\n",
       "    <tr>\n",
       "      <th>min</th>\n",
       "      <td>1.000000</td>\n",
       "      <td>20.000000</td>\n",
       "      <td>1.000000</td>\n",
       "      <td>20.000000</td>\n",
       "    </tr>\n",
       "    <tr>\n",
       "      <th>25%</th>\n",
       "      <td>250.750000</td>\n",
       "      <td>20.000000</td>\n",
       "      <td>4.000000</td>\n",
       "      <td>120.000000</td>\n",
       "    </tr>\n",
       "    <tr>\n",
       "      <th>50%</th>\n",
       "      <td>500.500000</td>\n",
       "      <td>25.000000</td>\n",
       "      <td>8.000000</td>\n",
       "      <td>240.000000</td>\n",
       "    </tr>\n",
       "    <tr>\n",
       "      <th>75%</th>\n",
       "      <td>750.250000</td>\n",
       "      <td>50.000000</td>\n",
       "      <td>12.000000</td>\n",
       "      <td>360.000000</td>\n",
       "    </tr>\n",
       "    <tr>\n",
       "      <th>max</th>\n",
       "      <td>1000.000000</td>\n",
       "      <td>60.000000</td>\n",
       "      <td>15.000000</td>\n",
       "      <td>900.000000</td>\n",
       "    </tr>\n",
       "  </tbody>\n",
       "</table>\n",
       "</div>"
      ],
      "text/plain": [
       "          order_id   item_price     quantity  transaction_amount\n",
       "count  1000.000000  1000.000000  1000.000000         1000.000000\n",
       "mean    500.500000    33.315000     8.162000          275.230000\n",
       "std     288.819436    14.921744     4.413075          204.402979\n",
       "min       1.000000    20.000000     1.000000           20.000000\n",
       "25%     250.750000    20.000000     4.000000          120.000000\n",
       "50%     500.500000    25.000000     8.000000          240.000000\n",
       "75%     750.250000    50.000000    12.000000          360.000000\n",
       "max    1000.000000    60.000000    15.000000          900.000000"
      ]
     },
     "execution_count": 79,
     "metadata": {},
     "output_type": "execute_result"
    }
   ],
   "source": [
    "df[num].describe()"
   ]
  },
  {
   "cell_type": "markdown",
   "id": "92d9143d-894c-4015-9393-319a11bc0cfd",
   "metadata": {},
   "source": [
    "#### Inference"
   ]
  },
  {
   "cell_type": "markdown",
   "id": "efb29b75-1a08-4711-8b68-c7931f09f0b4",
   "metadata": {},
   "source": [
    "Order IDs are sequential numbers.\n",
    "Item prices have a right-skewed distribution with a wider range compared to quantities.\n",
    "Quantities have a relatively symmetrical distribution with a smaller range compared to item prices.\n",
    "Transaction amounts have a right-skewed distribution with a wider range, likely influenced by both item prices and quantities."
   ]
  },
  {
   "cell_type": "code",
   "execution_count": null,
   "id": "0c99ff5b-e8c1-49a5-a104-a2e2ec33d495",
   "metadata": {},
   "outputs": [],
   "source": []
  },
  {
   "cell_type": "code",
   "execution_count": 84,
   "id": "09067bd0-1358-4338-a970-4dbfdea33846",
   "metadata": {},
   "outputs": [
    {
     "data": {
      "text/html": [
       "<div>\n",
       "<style scoped>\n",
       "    .dataframe tbody tr th:only-of-type {\n",
       "        vertical-align: middle;\n",
       "    }\n",
       "\n",
       "    .dataframe tbody tr th {\n",
       "        vertical-align: top;\n",
       "    }\n",
       "\n",
       "    .dataframe thead th {\n",
       "        text-align: right;\n",
       "    }\n",
       "</style>\n",
       "<table border=\"1\" class=\"dataframe\">\n",
       "  <thead>\n",
       "    <tr style=\"text-align: right;\">\n",
       "      <th></th>\n",
       "      <th>item_name</th>\n",
       "      <th>item_type</th>\n",
       "      <th>transaction_type</th>\n",
       "      <th>received_by</th>\n",
       "      <th>time_of_sale</th>\n",
       "    </tr>\n",
       "  </thead>\n",
       "  <tbody>\n",
       "    <tr>\n",
       "      <th>count</th>\n",
       "      <td>1000</td>\n",
       "      <td>1000</td>\n",
       "      <td>893</td>\n",
       "      <td>1000</td>\n",
       "      <td>1000</td>\n",
       "    </tr>\n",
       "    <tr>\n",
       "      <th>unique</th>\n",
       "      <td>7</td>\n",
       "      <td>2</td>\n",
       "      <td>2</td>\n",
       "      <td>2</td>\n",
       "      <td>5</td>\n",
       "    </tr>\n",
       "    <tr>\n",
       "      <th>top</th>\n",
       "      <td>Cold coffee</td>\n",
       "      <td>Fastfood</td>\n",
       "      <td>Cash</td>\n",
       "      <td>Mr.</td>\n",
       "      <td>Night</td>\n",
       "    </tr>\n",
       "    <tr>\n",
       "      <th>freq</th>\n",
       "      <td>161</td>\n",
       "      <td>686</td>\n",
       "      <td>476</td>\n",
       "      <td>512</td>\n",
       "      <td>205</td>\n",
       "    </tr>\n",
       "  </tbody>\n",
       "</table>\n",
       "</div>"
      ],
      "text/plain": [
       "          item_name item_type transaction_type received_by time_of_sale\n",
       "count          1000      1000              893        1000         1000\n",
       "unique            7         2                2           2            5\n",
       "top     Cold coffee  Fastfood             Cash         Mr.        Night\n",
       "freq            161       686              476         512          205"
      ]
     },
     "execution_count": 84,
     "metadata": {},
     "output_type": "execute_result"
    }
   ],
   "source": [
    "df[cat].describe(include=object)"
   ]
  },
  {
   "cell_type": "markdown",
   "id": "5a8b3890-38d2-4f87-b344-792bbb4902bd",
   "metadata": {},
   "source": [
    "#### Inference"
   ]
  },
  {
   "cell_type": "markdown",
   "id": "6cf8f030-8fc6-49e9-b35f-2949e9c768c6",
   "metadata": {},
   "source": [
    "The dataset contains 1000 transactions with 7 unique item names, 2 item types, 2 transaction types, 2 recipients, and 5 time of sale categories. Cold coffee is the most frequent item, Fastfood is the most common item type, Cash is the preferred payment, Mr. is the most frequent recipient, and Night is the peak sales time."
   ]
  },
  {
   "cell_type": "code",
   "execution_count": null,
   "id": "9c4e3477-4c90-4007-b021-3da2e4d3c63e",
   "metadata": {},
   "outputs": [],
   "source": []
  },
  {
   "cell_type": "code",
   "execution_count": null,
   "id": "d5a41a4f-beab-4eb6-874a-07ef71e82b27",
   "metadata": {},
   "outputs": [],
   "source": []
  },
  {
   "cell_type": "code",
   "execution_count": null,
   "id": "5e924c10-017e-46cd-a205-fb0b4389b392",
   "metadata": {},
   "outputs": [],
   "source": []
  },
  {
   "cell_type": "code",
   "execution_count": null,
   "id": "7f27a2cd-38c8-4348-bbe1-eefbb7b6e28d",
   "metadata": {},
   "outputs": [],
   "source": []
  }
 ],
 "metadata": {
  "kernelspec": {
   "display_name": "Python 3 (ipykernel)",
   "language": "python",
   "name": "python3"
  },
  "language_info": {
   "codemirror_mode": {
    "name": "ipython",
    "version": 3
   },
   "file_extension": ".py",
   "mimetype": "text/x-python",
   "name": "python",
   "nbconvert_exporter": "python",
   "pygments_lexer": "ipython3",
   "version": "3.11.7"
  }
 },
 "nbformat": 4,
 "nbformat_minor": 5
}
